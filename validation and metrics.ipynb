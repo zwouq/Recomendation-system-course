{
 "cells": [
  {
   "cell_type": "code",
   "execution_count": 11,
   "id": "initial_id",
   "metadata": {
    "ExecuteTime": {
     "end_time": "2024-01-18T19:18:54.367066Z",
     "start_time": "2024-01-18T19:18:54.351430Z"
    }
   },
   "outputs": [
    {
     "name": "stdout",
     "output_type": "stream",
     "text": [
      "Dataset:\n"
     ]
    }
   ],
   "source": [
    "import os\n",
    "import numpy as np \n",
    "import pandas as pd \n",
    "from itertools import islice, cycle\n",
    "from more_itertools import pairwise\n",
    "\n",
    "print('Dataset:')\n",
    "for dirname, _, filenames in os.walk('/kaggle/input'):\n",
    "    for filename in filenames:\n",
    "        print(os.path.join(dirname, filename))"
   ]
  },
  {
   "cell_type": "markdown",
   "source": [
    "# Preprocessing"
   ],
   "metadata": {
    "collapsed": false
   },
   "id": "ade039463d70d1be"
  },
  {
   "cell_type": "code",
   "execution_count": 12,
   "id": "5199ba39",
   "metadata": {
    "ExecuteTime": {
     "end_time": "2024-01-18T19:18:56.145521Z",
     "start_time": "2024-01-18T19:18:54.377800Z"
    }
   },
   "outputs": [
    {
     "data": {
      "text/plain": "   user_id  item_id  progress  rating  start_date\n0   126706    14433        80     NaN  2018-01-01\n1   127290   140952        58     NaN  2018-01-01\n2    66991   198453        89     NaN  2018-01-01\n3    46791    83486        23     5.0  2018-01-01\n4    79313   188770        88     5.0  2018-01-01",
      "text/html": "<div>\n<style scoped>\n    .dataframe tbody tr th:only-of-type {\n        vertical-align: middle;\n    }\n\n    .dataframe tbody tr th {\n        vertical-align: top;\n    }\n\n    .dataframe thead th {\n        text-align: right;\n    }\n</style>\n<table border=\"1\" class=\"dataframe\">\n  <thead>\n    <tr style=\"text-align: right;\">\n      <th></th>\n      <th>user_id</th>\n      <th>item_id</th>\n      <th>progress</th>\n      <th>rating</th>\n      <th>start_date</th>\n    </tr>\n  </thead>\n  <tbody>\n    <tr>\n      <th>0</th>\n      <td>126706</td>\n      <td>14433</td>\n      <td>80</td>\n      <td>NaN</td>\n      <td>2018-01-01</td>\n    </tr>\n    <tr>\n      <th>1</th>\n      <td>127290</td>\n      <td>140952</td>\n      <td>58</td>\n      <td>NaN</td>\n      <td>2018-01-01</td>\n    </tr>\n    <tr>\n      <th>2</th>\n      <td>66991</td>\n      <td>198453</td>\n      <td>89</td>\n      <td>NaN</td>\n      <td>2018-01-01</td>\n    </tr>\n    <tr>\n      <th>3</th>\n      <td>46791</td>\n      <td>83486</td>\n      <td>23</td>\n      <td>5.0</td>\n      <td>2018-01-01</td>\n    </tr>\n    <tr>\n      <th>4</th>\n      <td>79313</td>\n      <td>188770</td>\n      <td>88</td>\n      <td>5.0</td>\n      <td>2018-01-01</td>\n    </tr>\n  </tbody>\n</table>\n</div>"
     },
     "execution_count": 12,
     "metadata": {},
     "output_type": "execute_result"
    }
   ],
   "source": [
    "df = pd.read_csv('../interactions.csv')\n",
    "df.head()"
   ]
  },
  {
   "cell_type": "code",
   "execution_count": 13,
   "outputs": [],
   "source": [
    "df['start_date'] = pd.to_datetime(df['start_date'])"
   ],
   "metadata": {
    "collapsed": false,
    "ExecuteTime": {
     "end_time": "2024-01-18T19:34:27.318679Z",
     "start_time": "2024-01-18T19:34:26.398180Z"
    }
   },
   "id": "15a496c2f1ff0d4a"
  },
  {
   "cell_type": "code",
   "execution_count": 14,
   "outputs": [
    {
     "name": "stdout",
     "output_type": "stream",
     "text": [
      "<class 'pandas.core.frame.DataFrame'>\n",
      "RangeIndex: 1533078 entries, 0 to 1533077\n",
      "Data columns (total 5 columns):\n",
      " #   Column      Non-Null Count    Dtype         \n",
      "---  ------      --------------    -----         \n",
      " 0   user_id     1533078 non-null  int64         \n",
      " 1   item_id     1533078 non-null  int64         \n",
      " 2   progress    1533078 non-null  int64         \n",
      " 3   rating      285356 non-null   float64       \n",
      " 4   start_date  1533078 non-null  datetime64[ns]\n",
      "dtypes: datetime64[ns](1), float64(1), int64(3)\n",
      "memory usage: 58.5 MB\n"
     ]
    }
   ],
   "source": [
    "df.info()"
   ],
   "metadata": {
    "collapsed": false,
    "ExecuteTime": {
     "end_time": "2024-01-18T19:34:37.099208Z",
     "start_time": "2024-01-18T19:34:36.546473Z"
    }
   },
   "id": "4dfd15d46ed26e68"
  },
  {
   "cell_type": "markdown",
   "source": [
    "## Duplicates"
   ],
   "metadata": {
    "collapsed": false
   },
   "id": "978af58d493ae907"
  },
  {
   "cell_type": "code",
   "execution_count": 15,
   "outputs": [
    {
     "data": {
      "text/plain": "160"
     },
     "execution_count": 15,
     "metadata": {},
     "output_type": "execute_result"
    }
   ],
   "source": [
    "duplicates = df.duplicated(subset=['user_id', 'item_id'], keep=False)\n",
    "duplicates.sum()"
   ],
   "metadata": {
    "collapsed": false,
    "ExecuteTime": {
     "end_time": "2024-01-18T19:35:53.854633Z",
     "start_time": "2024-01-18T19:35:53.049412Z"
    }
   },
   "id": "e74cb6c1d76240dd"
  },
  {
   "cell_type": "code",
   "execution_count": 16,
   "outputs": [],
   "source": [
    "df_duplicates = df[duplicates].sort_values(by=['user_id', 'start_date'])\n",
    "df = df[~duplicates]"
   ],
   "metadata": {
    "collapsed": false,
    "ExecuteTime": {
     "end_time": "2024-01-18T19:36:08.245701Z",
     "start_time": "2024-01-18T19:36:08.035995Z"
    }
   },
   "id": "db46236814276f3e"
  },
  {
   "cell_type": "code",
   "execution_count": 17,
   "outputs": [
    {
     "name": "stdout",
     "output_type": "stream",
     "text": [
      "<class 'pandas.core.frame.DataFrame'>\n",
      "MultiIndex: 80 entries, (523, 49329) to (158041, 208145)\n",
      "Data columns (total 3 columns):\n",
      " #   Column      Non-Null Count  Dtype         \n",
      "---  ------      --------------  -----         \n",
      " 0   progress    80 non-null     int64         \n",
      " 1   rating      35 non-null     float64       \n",
      " 2   start_date  80 non-null     datetime64[ns]\n",
      "dtypes: datetime64[ns](1), float64(1), int64(1)\n",
      "memory usage: 3.4 KB\n"
     ]
    }
   ],
   "source": [
    "df_duplicates = df_duplicates.groupby(['user_id', 'item_id']).agg({\n",
    "    'progress': 'max',\n",
    "    'rating': 'max',\n",
    "    'start_date': 'min'\n",
    "})\n",
    "df_duplicates.info()"
   ],
   "metadata": {
    "collapsed": false,
    "ExecuteTime": {
     "end_time": "2024-01-18T19:36:14.845703Z",
     "start_time": "2024-01-18T19:36:14.805241Z"
    }
   },
   "id": "6a0d36a8473a674f"
  },
  {
   "cell_type": "code",
   "execution_count": 18,
   "outputs": [
    {
     "name": "stderr",
     "output_type": "stream",
     "text": [
      "/var/folders/zm/v7pd626571j6r7vjfndfw4qc0000gn/T/ipykernel_37681/3801035522.py:1: FutureWarning: The frame.append method is deprecated and will be removed from pandas in a future version. Use pandas.concat instead.\n",
      "  df = df.append(df_duplicates.reset_index(), ignore_index=True)\n"
     ]
    },
    {
     "name": "stdout",
     "output_type": "stream",
     "text": [
      "<class 'pandas.core.frame.DataFrame'>\n",
      "RangeIndex: 1532998 entries, 0 to 1532997\n",
      "Data columns (total 5 columns):\n",
      " #   Column      Non-Null Count    Dtype         \n",
      "---  ------      --------------    -----         \n",
      " 0   user_id     1532998 non-null  int64         \n",
      " 1   item_id     1532998 non-null  int64         \n",
      " 2   progress    1532998 non-null  int64         \n",
      " 3   rating      285355 non-null   float64       \n",
      " 4   start_date  1532998 non-null  datetime64[ns]\n",
      "dtypes: datetime64[ns](1), float64(1), int64(3)\n",
      "memory usage: 58.5 MB\n"
     ]
    }
   ],
   "source": [
    "df = df.append(df_duplicates.reset_index(), ignore_index=True)\n",
    "df.info()"
   ],
   "metadata": {
    "collapsed": false,
    "ExecuteTime": {
     "end_time": "2024-01-18T20:10:35.435940Z",
     "start_time": "2024-01-18T20:10:34.226852Z"
    }
   },
   "id": "dd6ae241fd2d1cb3"
  },
  {
   "cell_type": "code",
   "execution_count": 19,
   "outputs": [
    {
     "data": {
      "text/plain": "user_id       151600\nitem_id        59599\nprogress         101\nrating             5\nstart_date       730\ndtype: int64"
     },
     "execution_count": 19,
     "metadata": {},
     "output_type": "execute_result"
    }
   ],
   "source": [
    "df.nunique()"
   ],
   "metadata": {
    "collapsed": false,
    "ExecuteTime": {
     "end_time": "2024-01-18T20:10:50.028897Z",
     "start_time": "2024-01-18T20:10:49.813778Z"
    }
   },
   "id": "bfb93f20532654f1"
  },
  {
   "cell_type": "markdown",
   "source": [
    "Memory saving"
   ],
   "metadata": {
    "collapsed": false
   },
   "id": "77197bcd8f32329d"
  },
  {
   "cell_type": "code",
   "execution_count": 24,
   "outputs": [],
   "source": [
    "df_user_item = df[['user_id', 'item_id']].copy()"
   ],
   "metadata": {
    "collapsed": false,
    "ExecuteTime": {
     "end_time": "2024-01-18T20:25:10.221409Z",
     "start_time": "2024-01-18T20:25:09.941836Z"
    }
   },
   "id": "3ff2ef6bf13eac55"
  },
  {
   "cell_type": "code",
   "execution_count": 25,
   "outputs": [],
   "source": [
    "def num_bytes_format(num_bytes, float_prec=4):\n",
    "    units = ['bytes', 'Kb', 'Mb', 'Gb', 'Tb', 'Pb', 'Eb']\n",
    "    for unit in units[:-1]:\n",
    "        if abs(num_bytes) < 1000:\n",
    "            return f'{num_bytes:.{float_prec}f} {unit}'\n",
    "        num_bytes /= 1000\n",
    "    return f'{num_bytes:.4f} {units[-1]}'"
   ],
   "metadata": {
    "collapsed": false,
    "ExecuteTime": {
     "end_time": "2024-01-18T20:28:41.359013Z",
     "start_time": "2024-01-18T20:28:41.350358Z"
    }
   },
   "id": "eda894dd5f715783"
  },
  {
   "cell_type": "code",
   "execution_count": 26,
   "outputs": [
    {
     "data": {
      "text/plain": "'24.5281 Mb'"
     },
     "execution_count": 26,
     "metadata": {},
     "output_type": "execute_result"
    }
   ],
   "source": [
    "num_bytes_ints = df_user_item.memory_usage(deep=True).sum()\n",
    "num_bytes_format(num_bytes_ints)"
   ],
   "metadata": {
    "collapsed": false,
    "ExecuteTime": {
     "end_time": "2024-01-18T20:28:50.965010Z",
     "start_time": "2024-01-18T20:28:50.930044Z"
    }
   },
   "id": "686ecfe3f4efccc8"
  },
  {
   "cell_type": "code",
   "execution_count": 27,
   "outputs": [
    {
     "data": {
      "text/plain": "'191.5619 Mb'"
     },
     "execution_count": 27,
     "metadata": {},
     "output_type": "execute_result"
    }
   ],
   "source": [
    "df_user_item = df_user_item.astype('string')\n",
    "num_bytes_str = df_user_item.memory_usage(deep=True).sum()\n",
    "num_bytes_format(num_bytes_str)"
   ],
   "metadata": {
    "collapsed": false,
    "ExecuteTime": {
     "end_time": "2024-01-18T20:29:01.032210Z",
     "start_time": "2024-01-18T20:28:58.358313Z"
    }
   },
   "id": "f36ddf5390423428"
  },
  {
   "cell_type": "code",
   "execution_count": 28,
   "outputs": [
    {
     "data": {
      "text/plain": "'31.7843 Mb'"
     },
     "execution_count": 28,
     "metadata": {},
     "output_type": "execute_result"
    }
   ],
   "source": [
    "df_user_item = df_user_item.astype('category')\n",
    "num_bytes_cat = df_user_item.memory_usage(deep=True).sum()\n",
    "num_bytes_format(num_bytes_cat)"
   ],
   "metadata": {
    "collapsed": false,
    "ExecuteTime": {
     "end_time": "2024-01-18T20:29:41.546551Z",
     "start_time": "2024-01-18T20:29:40.178456Z"
    }
   },
   "id": "698288d434714256"
  },
  {
   "cell_type": "code",
   "execution_count": 29,
   "outputs": [
    {
     "name": "stdout",
     "output_type": "stream",
     "text": [
      "Экономия category относительно string: 83.41%\n",
      "Экономия ints относительно category: 22.83%\n"
     ]
    }
   ],
   "source": [
    "print(f'Экономия category относительно string: {(1 - num_bytes_cat / num_bytes_str) * 100:.2f}%')\n",
    "print(f'Экономия ints относительно category: {(1 - num_bytes_ints / num_bytes_cat) * 100:.2f}%')"
   ],
   "metadata": {
    "collapsed": false,
    "ExecuteTime": {
     "end_time": "2024-01-18T20:36:24.927961Z",
     "start_time": "2024-01-18T20:36:24.892179Z"
    }
   },
   "id": "ccc64b274506598"
  },
  {
   "cell_type": "code",
   "execution_count": 30,
   "outputs": [
    {
     "data": {
      "text/plain": "'20.2944 Mb'"
     },
     "execution_count": 30,
     "metadata": {},
     "output_type": "execute_result"
    }
   ],
   "source": [
    "df_user_item = df_user_item.astype(np.int64).astype('category')\n",
    "num_bytes_int_cat = df_user_item.memory_usage(deep=True).sum()\n",
    "num_bytes_format(num_bytes_int_cat)"
   ],
   "metadata": {
    "collapsed": false,
    "ExecuteTime": {
     "end_time": "2024-01-18T20:38:27.156486Z",
     "start_time": "2024-01-18T20:38:25.454699Z"
    }
   },
   "id": "a978fed4b030d2e0"
  },
  {
   "cell_type": "code",
   "execution_count": 31,
   "outputs": [
    {
     "name": "stdout",
     "output_type": "stream",
     "text": [
      "Экономия category on int64 относительно category on string: 36.15%\n"
     ]
    }
   ],
   "source": [
    "print(f'Экономия category on int64 относительно category on string: {(1 - num_bytes_int_cat / num_bytes_cat) * 100:.2f}%')"
   ],
   "metadata": {
    "collapsed": false,
    "ExecuteTime": {
     "end_time": "2024-01-18T20:38:35.629232Z",
     "start_time": "2024-01-18T20:38:35.621053Z"
    }
   },
   "id": "5795565dab07eba8"
  },
  {
   "cell_type": "code",
   "execution_count": 32,
   "outputs": [
    {
     "data": {
      "text/plain": "dtype('int32')"
     },
     "execution_count": 32,
     "metadata": {},
     "output_type": "execute_result"
    }
   ],
   "source": [
    "df_user_item['user_id'].cat.codes.dtype"
   ],
   "metadata": {
    "collapsed": false,
    "ExecuteTime": {
     "end_time": "2024-01-18T20:38:44.948177Z",
     "start_time": "2024-01-18T20:38:44.924751Z"
    }
   },
   "id": "b51990ead6317528"
  },
  {
   "cell_type": "markdown",
   "source": [
    "# Integer DType"
   ],
   "metadata": {
    "collapsed": false
   },
   "id": "31c3a8b7008b8a3c"
  },
  {
   "cell_type": "code",
   "execution_count": 34,
   "outputs": [],
   "source": [
    "ratings = df['rating'].astype(np.float32).copy()"
   ],
   "metadata": {
    "collapsed": false,
    "ExecuteTime": {
     "end_time": "2024-01-18T20:40:16.674217Z",
     "start_time": "2024-01-18T20:40:16.587555Z"
    }
   },
   "id": "64f68de803b548ab"
  },
  {
   "cell_type": "code",
   "execution_count": 35,
   "outputs": [
    {
     "data": {
      "text/plain": "'6.1321 Mb'"
     },
     "execution_count": 35,
     "metadata": {},
     "output_type": "execute_result"
    }
   ],
   "source": [
    "num_bytes_float = ratings.memory_usage(deep=True)\n",
    "num_bytes_format(num_bytes_float)"
   ],
   "metadata": {
    "collapsed": false,
    "ExecuteTime": {
     "end_time": "2024-01-18T20:40:29.172695Z",
     "start_time": "2024-01-18T20:40:29.168097Z"
    }
   },
   "id": "c56f09724c0170c4"
  },
  {
   "cell_type": "code",
   "execution_count": 36,
   "outputs": [
    {
     "data": {
      "text/plain": "'7.6651 Mb'"
     },
     "execution_count": 36,
     "metadata": {},
     "output_type": "execute_result"
    }
   ],
   "source": [
    "ratings = ratings.astype(pd.Int32Dtype())\n",
    "num_bytes_Int32 = ratings.memory_usage(deep=True)\n",
    "num_bytes_format(num_bytes_Int32)"
   ],
   "metadata": {
    "collapsed": false,
    "ExecuteTime": {
     "end_time": "2024-01-18T20:40:42.929039Z",
     "start_time": "2024-01-18T20:40:42.159127Z"
    }
   },
   "id": "6840df497ee46980"
  },
  {
   "cell_type": "code",
   "execution_count": 37,
   "outputs": [
    {
     "data": {
      "text/plain": "'3.0661 Mb'"
     },
     "execution_count": 37,
     "metadata": {},
     "output_type": "execute_result"
    }
   ],
   "source": [
    "ratings = ratings.astype(pd.Int8Dtype())\n",
    "num_bytes_Int8 = ratings.memory_usage(deep=True)\n",
    "num_bytes_format(num_bytes_Int8)"
   ],
   "metadata": {
    "collapsed": false,
    "ExecuteTime": {
     "end_time": "2024-01-18T20:40:54.564518Z",
     "start_time": "2024-01-18T20:40:54.536106Z"
    }
   },
   "id": "8d67a0226e993076"
  },
  {
   "cell_type": "code",
   "execution_count": 38,
   "outputs": [
    {
     "data": {
      "text/plain": "0          <NA>\n1          <NA>\n2          <NA>\n3             5\n4             5\n           ... \n1532993    <NA>\n1532994    <NA>\n1532995       5\n1532996       5\n1532997       4\nName: rating, Length: 1532998, dtype: Int8"
     },
     "execution_count": 38,
     "metadata": {},
     "output_type": "execute_result"
    }
   ],
   "source": [
    "ratings"
   ],
   "metadata": {
    "collapsed": false,
    "ExecuteTime": {
     "end_time": "2024-01-18T20:41:06.192345Z",
     "start_time": "2024-01-18T20:41:06.176145Z"
    }
   },
   "id": "32385a595da769fe"
  },
  {
   "cell_type": "code",
   "execution_count": 39,
   "outputs": [
    {
     "name": "stdout",
     "output_type": "stream",
     "text": [
      "Экономия Int8DType относительно float64: 50.00%\n"
     ]
    }
   ],
   "source": [
    "print(f'Экономия Int8DType относительно float64: {(1 - num_bytes_Int8 / num_bytes_float) * 100:.2f}%')"
   ],
   "metadata": {
    "collapsed": false,
    "ExecuteTime": {
     "end_time": "2024-01-18T20:41:39.052379Z",
     "start_time": "2024-01-18T20:41:39.014392Z"
    }
   },
   "id": "e2e9871272ab5b7b"
  },
  {
   "cell_type": "markdown",
   "source": [
    "# Sparse type\n",
    "Sparse Type - тип данных в pandas для работы с разреженными данными.\n",
    "\n",
    "Идея - храним только \"известные\" значения, остальное не храним и имитируем константой.\n",
    "\n",
    "Сам тип создается на основе двух значений:\n",
    "- dtype - тип сохраняемых значений\n",
    "- fill_value - константа для пропущенных значений"
   ],
   "metadata": {
    "collapsed": false
   },
   "id": "704acfb790742703"
  },
  {
   "cell_type": "code",
   "execution_count": 40,
   "outputs": [],
   "source": [
    "sparse_type = pd.SparseDtype(np.float32, np.nan)\n",
    "ratings = ratings.astype(np.float32).astype(sparse_type)"
   ],
   "metadata": {
    "collapsed": false,
    "ExecuteTime": {
     "end_time": "2024-01-18T20:43:23.276209Z",
     "start_time": "2024-01-18T20:43:23.198722Z"
    }
   },
   "id": "16ae3b18602e35f3"
  },
  {
   "cell_type": "code",
   "execution_count": 41,
   "outputs": [
    {
     "data": {
      "text/plain": "0          NaN\n1          NaN\n2          NaN\n3          5.0\n4          5.0\n          ... \n1532993    NaN\n1532994    NaN\n1532995    5.0\n1532996    5.0\n1532997    4.0\nName: rating, Length: 1532998, dtype: Sparse[float32, nan]"
     },
     "execution_count": 41,
     "metadata": {},
     "output_type": "execute_result"
    }
   ],
   "source": [
    "ratings"
   ],
   "metadata": {
    "collapsed": false,
    "ExecuteTime": {
     "end_time": "2024-01-18T20:43:31.687112Z",
     "start_time": "2024-01-18T20:43:31.611274Z"
    }
   },
   "id": "8a88ae25b5585af5"
  },
  {
   "cell_type": "code",
   "execution_count": 42,
   "outputs": [
    {
     "data": {
      "text/plain": "'2.2830 Mb'"
     },
     "execution_count": 42,
     "metadata": {},
     "output_type": "execute_result"
    }
   ],
   "source": [
    "num_bytes_sparse = ratings.memory_usage(deep=True)\n",
    "num_bytes_format(num_bytes_sparse)"
   ],
   "metadata": {
    "collapsed": false,
    "ExecuteTime": {
     "end_time": "2024-01-18T20:43:39.024382Z",
     "start_time": "2024-01-18T20:43:38.990353Z"
    }
   },
   "id": "430b5f2001e0c8a"
  },
  {
   "cell_type": "code",
   "execution_count": 43,
   "outputs": [
    {
     "name": "stdout",
     "output_type": "stream",
     "text": [
      "Экономия sparse относительно Int8DType: 25.54%\n",
      "Экономия sparse относительно float32: 62.77%\n"
     ]
    }
   ],
   "source": [
    "print(f'Экономия sparse относительно Int8DType: {(1 - num_bytes_sparse / num_bytes_Int8) * 100:.2f}%')\n",
    "print(f'Экономия sparse относительно float32: {(1 - num_bytes_sparse / num_bytes_float) * 100:.2f}%')"
   ],
   "metadata": {
    "collapsed": false,
    "ExecuteTime": {
     "end_time": "2024-01-18T20:43:47.716210Z",
     "start_time": "2024-01-18T20:43:47.700642Z"
    }
   },
   "id": "8daa36c4f5bc7205"
  },
  {
   "cell_type": "code",
   "execution_count": 44,
   "outputs": [
    {
     "data": {
      "text/plain": "0.18614179535785436"
     },
     "execution_count": 44,
     "metadata": {},
     "output_type": "execute_result"
    }
   ],
   "source": [
    "ratings.sparse.density"
   ],
   "metadata": {
    "collapsed": false,
    "ExecuteTime": {
     "end_time": "2024-01-18T20:44:02.734660Z",
     "start_time": "2024-01-18T20:44:02.721595Z"
    }
   },
   "id": "7a22f60c953d135e"
  },
  {
   "cell_type": "code",
   "execution_count": null,
   "outputs": [],
   "source": [],
   "metadata": {
    "collapsed": false
   },
   "id": "c1b2a198280e7cc1"
  }
 ],
 "metadata": {
  "kernelspec": {
   "display_name": "Python 3 (ipykernel)",
   "language": "python",
   "name": "python3"
  },
  "language_info": {
   "codemirror_mode": {
    "name": "ipython",
    "version": 3
   },
   "file_extension": ".py",
   "mimetype": "text/x-python",
   "name": "python",
   "nbconvert_exporter": "python",
   "pygments_lexer": "ipython3",
   "version": "3.9.13"
  }
 },
 "nbformat": 4,
 "nbformat_minor": 5
}
